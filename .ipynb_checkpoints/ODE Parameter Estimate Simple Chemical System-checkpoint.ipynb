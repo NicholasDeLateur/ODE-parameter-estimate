{
 "cells": [
  {
   "cell_type": "code",
   "execution_count": 73,
   "metadata": {
    "collapsed": false
   },
   "outputs": [
    {
     "name": "stdout",
     "output_type": "stream",
     "text": [
      "[  0.           5.26211853   8.01948403   9.23359012   9.71410004\n",
      "   9.89493463   9.96160932   9.98600176   9.99489983   9.99814231\n",
      "   9.99932342   9.99975359   9.99991026   9.99996732   9.99998811\n",
      "   9.99999566   9.99999842   9.99999942   9.9999998    9.99999992\n",
      "   9.99999997   9.99999999  10.          10.          10.00000001  10.          10.\n",
      "  10.          10.          10.          10.          10.          10.          10.\n",
      "  10.          10.          10.          10.          10.          10.          10.\n",
      "  10.          10.          10.          10.          10.          10.          10.\n",
      "  10.          10.          10.          10.          10.          10.          10.\n",
      "  10.          10.          10.          10.          10.          10.          10.\n",
      "  10.          10.          10.          10.          10.          10.          10.\n",
      "  10.          10.          10.          10.          10.          10.          10.\n",
      "  10.          10.          10.          10.          10.          10.          10.\n",
      "  10.          10.          10.          10.          10.          10.          10.\n",
      "  10.          10.          10.          10.          10.          10.          10.\n",
      "  10.          10.          10.        ]\n",
      "(100,)\n"
     ]
    },
    {
     "data": {
      "image/png": "[encoded data removed]",
      "text/plain": [
       "<matplotlib.figure.Figure at 0x268a6081a58>"
      ]
     },
     "metadata": {},
     "output_type": "display_data"
    }
   ],
   "source": [
    "%matplotlib inline\n",
    "import numpy as np\n",
    "import matplotlib.pyplot as plt\n",
    "from scipy.integrate import odeint\n",
    "  \n",
    "def michelis_menten(y, t, *args):\n",
    "    k1 = args[0]\n",
    "    k2 = args[1]\n",
    "    initA = 10\n",
    "    initB = 0\n",
    "    initC = 0\n",
    "    P = y[0]\n",
    "    CurrentSubstrate = StartingSubstrate - P\n",
    "     \n",
    "    dP = Vmax * (CurrentSubstrate / (CurrentSubstrate + km))\n",
    "    return dP\n",
    " \n",
    "# Parameters MM\n",
    "Vmax = 100\n",
    "km = 20\n",
    "StartingSubstrate = 1000\n",
    "params = (Vmax, km)\n",
    " \n",
    "# Initial Conditions MM\n",
    "init_P = 0\n",
    "  \n",
    "# Timesteps\n",
    "n_steps = 100\n",
    "t = np.linspace(0, 20, n_steps)\n",
    "  \n",
    "num_P = odeint(michelis_menten, init_P, t, args = (params)).flatten()\n",
    "print(num_P)\n",
    "print(num_P.shape)\n",
    "plt.plot(t, num_P, c='b', label = 'product')\n",
    "plt.xlabel('Time')\n",
    "plt.ylabel('Product Concentration')\n",
    "plt.legend(loc = 'best')\n",
    "plt.show()"
   ]
  },
  {
   "cell_type": "code",
   "execution_count": 46,
   "metadata": {
    "collapsed": false
   },
   "outputs": [],
   "source": [
    "exp_P = num_P + np.random.randn(len(num_P)) * 0.3\n",
    "exp_t = t[::100]\n",
    "exp_P = exp_P[::100]\n",
    "# Create experimental data.  Just take the regular simulation data and add some gaussian noise to it."
   ]
  },
  {
   "cell_type": "code",
   "execution_count": 47,
   "metadata": {
    "collapsed": true
   },
   "outputs": [],
   "source": [
    "def residuals(p):\n",
    "    p = tuple(p)\n",
    "    sim_P = odeint(michelis_menten, init_P, exp_t, args = p).flatten()\n",
    "    res = sim_P - exp_P\n",
    "    return res.flatten()"
   ]
  },
  {
   "cell_type": "code",
   "execution_count": 48,
   "metadata": {
    "collapsed": false
   },
   "outputs": [
    {
     "name": "stdout",
     "output_type": "stream",
     "text": [
      "[ 69.05460882  12.2842561 ]\n"
     ]
    }
   ],
   "source": [
    "from scipy.optimize import least_squares\n",
    "initial_guess = (10, 10)\n",
    "low_bounds = [0, 0]\n",
    "up_bounds = [1000, 1000]\n",
    "fitted_params = least_squares(residuals, initial_guess, bounds=(low_bounds, up_bounds)).x\n",
    "print(fitted_params)"
   ]
  },
  {
   "cell_type": "code",
   "execution_count": 65,
   "metadata": {
    "collapsed": false
   },
   "outputs": [
    {
     "data": {
      "image/png": "[encoded data removed]",
      "text/plain": [
       "<matplotlib.figure.Figure at 0x268a602a588>"
      ]
     },
     "metadata": {},
     "output_type": "display_data"
    }
   ],
   "source": [
    "#plt.plot(exp_t, exp_P, c='plum',   label='fake experimental data', zorder=1)\n",
    "plt.plot(t, odeint(michelis_menten, init_P, t, args = tuple(params)), 'r-', zorder=2,  label='Ideal with known params')\n",
    "#plt.plot(t, odeint(michelis_menten, init_P, t, args = tuple(initial_guess)), 'g-', zorder=2,  label='initial guess')\n",
    "plt.plot(t, odeint(michelis_menten, init_P, t, args = tuple(fitted_params)), 'b-', zorder=2,  label='fitted guess')\n",
    "plt.plot(t, odeint(michelis_menten, init_P, t, args = (1, 13)), 'y-', zorder=2,  label='fitted gusdfsdess')\n",
    "plt.legend(loc = 'best')\n",
    "plt.xlabel('Time')\n",
    "plt.ylabel('Product Concentration')\n",
    "plt.grid()\n",
    "plt.show()"
   ]
  },
  {
   "cell_type": "code",
   "execution_count": 61,
   "metadata": {
    "collapsed": false
   },
   "outputs": [
    {
     "name": "stdout",
     "output_type": "stream",
     "text": [
      "(100, 20)\n"
     ]
    }
   ],
   "source": [
    "print(params)"
   ]
  },
  {
   "cell_type": "code",
   "execution_count": 62,
   "metadata": {
    "collapsed": false
   },
   "outputs": [
    {
     "name": "stdout",
     "output_type": "stream",
     "text": [
      "[ 69.05460882  12.2842561 ]\n"
     ]
    }
   ],
   "source": [
    "print(fitted_params)"
   ]
  },
  {
   "cell_type": "code",
   "execution_count": null,
   "metadata": {
    "collapsed": true
   },
   "outputs": [],
   "source": []
  },
  {
   "cell_type": "code",
   "execution_count": null,
   "metadata": {
    "collapsed": true
   },
   "outputs": [],
   "source": []
  }
 ],
 "metadata": {
  "kernelspec": {
   "display_name": "Python 3",
   "language": "python",
   "name": "python3"
  },
  "language_info": {
   "codemirror_mode": {
    "name": "ipython",
    "version": 3
   },
   "file_extension": ".py",
   "mimetype": "text/x-python",
   "name": "python",
   "nbconvert_exporter": "python",
   "pygments_lexer": "ipython3",
   "version": "3.5.1"
  }
 },
 "nbformat": 4,
 "nbformat_minor": 0
}
