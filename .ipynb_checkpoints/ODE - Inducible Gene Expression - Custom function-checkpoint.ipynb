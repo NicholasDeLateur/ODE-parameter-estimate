{
 "cells": [
  {
   "cell_type": "code",
   "execution_count": 20,
   "metadata": {},
   "outputs": [
    {
     "name": "stdout",
     "output_type": "stream",
     "text": [
      "Wall time: 0 ns\n"
     ]
    }
   ],
   "source": [
    "%matplotlib inline\n",
    "import numpy as np\n",
    "import matplotlib.pyplot as plt\n",
    "from scipy.integrate import odeint\n",
    "from scipy.optimize import least_squares\n",
    "\n",
    "%time"
   ]
  },
  {
   "cell_type": "code",
   "execution_count": 27,
   "metadata": {},
   "outputs": [
    {
     "name": "stdout",
     "output_type": "stream",
     "text": [
      "Wall time: 10.4 s\n"
     ]
    }
   ],
   "source": [
    "%%time\n",
    "def report_params(fit_params_values, fit_param_names):\n",
    "    for each in range(len(fit_param_names)):\n",
    "        print(fit_param_names[each], 'is', fit_params_values[each])\n",
    "\n",
    "# define your modules\n",
    "def pCon1():\n",
    "    # This is the module for a specific insubstatiation of a constituitive promoter\n",
    "    # the input is nothing\n",
    "    # the output is a protein production amount per time unit\n",
    "    pCon1_production_rate = 100 \n",
    "    \n",
    "    return pCon1_production_rate # MEFL minute**-1\n",
    "    \n",
    "def pLux1(LuxR, AHL):\n",
    "    # This is the module for a specific insubstatiation of a lux promoter\n",
    "    # the input is a LuxR amount and an AHL amount\n",
    "    # the output is a protein production amount per time unit\n",
    "    \n",
    "    # For every promoter there is some function that determines what the promoter's\n",
    "    #     maximal and basal expression are based on the amount of transcriptional factor\n",
    "    #     is floating around in the cell. These numbers are empircally determined, and\n",
    "    #     for demonstration purposes are fictionally and arbitrarily filled in here. \n",
    "    #     These functions take the form of hill functions.\n",
    "    \n",
    "    basal_n = 2\n",
    "    basal_basal = 2\n",
    "    basal_max = 4\n",
    "    basal_kd = 2\n",
    "    basal_expression_rate = basal_basal + (basal_max * (LuxR**basal_n / (LuxR**basal_n + basal_kd))) # MEFL minute**-1\n",
    "    \n",
    "    max_n = 2\n",
    "    max_max = 600\n",
    "    max_kd = 10\n",
    "    maximal_expression_rate = max_max * (LuxR**max_n / (LuxR**max_n + max_kd)) # MEFL minute**-1\n",
    "    \n",
    "    \n",
    "    pLux1_n = 2\n",
    "    pLux1_kd = 10\n",
    "     \n",
    "    pLux1_production_rate = basal_expression_rate + (maximal_expression_rate * (AHL**pLux1_n / (pLux1_kd + AHL**pLux1_n))) \n",
    "    \n",
    "    return pLux1_production_rate # MEFL minute**-1\n",
    "\n",
    "def simulation_set_of_equations(current_species_concentration, dt):\n",
    "    protein_loss = 0.1 # A summation of dilution and degredation\n",
    "    \n",
    "    # Unpack your current amount of each species\n",
    "    LuxR, GFP, AHL = current_species_concentration\n",
    "    \n",
    "    # Determine the change in each species\n",
    "    dLuxR = dt * (pCon1() - protein_loss*LuxR)\n",
    "    dGFP = dt * (pLux1(LuxR, AHL) - protein_loss*GFP)\n",
    "    dAHL = dt * 0 # for now we're assuming AHL was added exogenously and never degrades\n",
    "    \n",
    "    # Return the change in each species; make sure same order as your init values\n",
    "    # scipy.odeint will take these values and apply them to the current value of each species in the next time step for you\n",
    "    return [dLuxR, dGFP, dAHL]\n",
    "\n",
    "# Initial Conditions\n",
    "# LuxR, GFP, AHL\n",
    "species = [10, 0, 10000]\n",
    "\n",
    "# Timesteps\n",
    "total_minutes = 40\n",
    "timesteps = 1000000\n",
    "dt = total_minutes / timesteps\n",
    "t = 0\n",
    "timepoints = []\n",
    "\n",
    "results = []\n",
    "\n",
    "for i in range(0, len(species)):\n",
    "    results.append([])\n",
    "\n",
    "while t<total_minutes:\n",
    "    # Log the amount of each species\n",
    "    for i in range(0, len(species)):\n",
    "        results[i].append(species[i])\n",
    "        \n",
    "    # Calculate the change in each species and apply it to the current\n",
    "    change_in_species = simulation_set_of_equations(species, dt)\n",
    "    species = np.add(species, change_in_species)\n",
    "\n",
    "    # store current timpoint and then increment time\n",
    "    timepoints.append(t)\n",
    "    t += dt\n"
   ]
  },
  {
   "cell_type": "code",
   "execution_count": 16,
   "metadata": {},
   "outputs": [
    {
     "data": {
      "image/png": "[encoded data removed]",
      "text/plain": [
       "<matplotlib.figure.Figure at 0x2b0b6851780>"
      ]
     },
     "metadata": {},
     "output_type": "display_data"
    }
   ],
   "source": [
    "plt.scatter(timepoints, results[0], c='b', label = 'LuxR')\n",
    "plt.scatter(timepoints, results[1], c='g', label = 'GFP')\n",
    "#plt.scatter(timepoints, results[2], c='r', label = 'AHL')\n",
    "plt.xlabel('Time (minutes)')\n",
    "plt.ylabel('Protein Amount (GeoMean MEFL)')\n",
    "plt.legend(loc = 'best')\n",
    "plt.grid()\n",
    "plt.yscale('log')\n",
    "plt.show()"
   ]
  },
  {
   "cell_type": "code",
   "execution_count": 29,
   "metadata": {
    "collapsed": true
   },
   "outputs": [],
   "source": [
    "%colors Linux\n"
   ]
  },
  {
   "cell_type": "code",
   "execution_count": null,
   "metadata": {
    "collapsed": true
   },
   "outputs": [],
   "source": []
  }
 ],
 "metadata": {
  "kernelspec": {
   "display_name": "Python 3",
   "language": "python",
   "name": "python3"
  },
  "language_info": {
   "codemirror_mode": {
    "name": "ipython",
    "version": 3
   },
   "file_extension": ".py",
   "mimetype": "text/x-python",
   "name": "python",
   "nbconvert_exporter": "python",
   "pygments_lexer": "ipython3",
   "version": "3.6.3"
  }
 },
 "nbformat": 4,
 "nbformat_minor": 1
}
