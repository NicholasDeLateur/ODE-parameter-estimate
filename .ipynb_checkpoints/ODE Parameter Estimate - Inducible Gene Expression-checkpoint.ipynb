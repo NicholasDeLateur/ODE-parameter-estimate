{
 "cells": [
  {
   "cell_type": "code",
   "execution_count": 81,
   "metadata": {
    "collapsed": false
   },
   "outputs": [
    {
     "data": {
      "image/png": "[encoded data removed]",
      "text/plain": [
       "<matplotlib.figure.Figure at 0x82b3b70>"
      ]
     },
     "metadata": {},
     "output_type": "display_data"
    }
   ],
   "source": [
    "# I'm 99% sure the biology / equations described here is wrong\n",
    "# Still a work in progress\n",
    "\n",
    "%matplotlib inline\n",
    "import numpy as np\n",
    "import matplotlib.pyplot as plt\n",
    "from scipy.integrate import odeint\n",
    "from scipy.optimize import least_squares\n",
    "\n",
    "def report_params(fit_params_values, fit_param_names):\n",
    "    for each in range(len(fit_param_names)):\n",
    "        print(fit_param_names[each], 'is', fit_params_values[each])\n",
    "\n",
    "# define your modules\n",
    "def pLux1(LuxR, AHL):\n",
    "    # This is the module for a specific insubstatiation of a lux promoter\n",
    "    # the input is a LuxR amount and an AHL amount\n",
    "    # the output is a protein production amount\n",
    "    \n",
    "    # For every promoter there is some function that determines what the promoter's\n",
    "    #     maximal and basal expression are based on the amount of transcriptional factor\n",
    "    #     is floating around in the cell. These numbers are empircally determined, and\n",
    "    #     for demonstration purposes are fictionally and arbitrarily filled in here. \n",
    "    #     These functions take the form of hill functions.\n",
    "    basal_expression = 1 + (5 * (LuxR / (LuxR + 10))) # low LuxR gives basal of 1, high LuxR gives basal of 6\n",
    "    maximal_expression = 10 + (100 * (LuxR / (LuxR + 5))) # Low LuxR gives max of 10, high LuxR gives max of 110\n",
    "    Kd = 10\n",
    "    \n",
    "    production_from_pLux = basal_expression + maximal_expression*(AHL / (Kd + AHL)) \n",
    "    \n",
    "    return production_from_pLux\n",
    "\n",
    "def simulation_set_of_equations(y, t, *args):\n",
    "    # Args are strictly for parameters we want to eventually estimate.\n",
    "    # Everything else must be hardcoded below. Sorry for the convience. \n",
    "    \n",
    "    # Unpack your parameters\n",
    "    k_pCon_express = args[0] # A summation of transcription and translation from a pCon promoter\n",
    "    k_pLux_express = args[1] # A summation of transcription and translation from a pLux promoter\n",
    "    k_loss = args[2] # A summation of dilution and degredation\n",
    "    \n",
    "    # Unpack your current amount of each species\n",
    "    LuxR, GFP, AHL = y\n",
    "    \n",
    "    # Determine the change in each species\n",
    "    dLuxR = k_pCon_express - k_loss*LuxR\n",
    "    dGFP = pLux1(LuxR, AHL)*k_pLux_express - k_loss*GFP\n",
    "    dAHL = 0 # for now we're assuming AHL was added exogenously and never degrades\n",
    "    \n",
    "    # Return the change in each species; make sure same order as your init values\n",
    "    # scipy.odeint will take these values and apply them to the current value of each species in the next time step for you\n",
    "    return [dLuxR, dGFP, dAHL]\n",
    " \n",
    "# Parameters\n",
    "k_pCon_express = 101\n",
    "k_pLux_express = 50\n",
    "k_loss = 0.1\n",
    "params = (k_pCon_express, k_pLux_express, k_loss)\n",
    "param_names = ['k_pCon_express', 'k_pLux_express', 'k_loss'] # somehow this is honestly necessary in Python?!\n",
    " \n",
    "# Initial Conditions\n",
    "# LuxR, GFP, AHL\n",
    "init_P = [1000, 0, 11]\n",
    "  \n",
    "# Timesteps\n",
    "n_steps = 1000\n",
    "t = np.linspace(0, 30, n_steps) \n",
    "  \n",
    "num_P = odeint(simulation_set_of_equations, init_P, t, args = (params))\n",
    "\n",
    "plt.plot(t, num_P[:,0], c='b', label = 'LuxR')\n",
    "plt.plot(t, num_P[:,1], c='g', label = 'GFP')\n",
    "plt.plot(t, num_P[:,2], c='r', label = 'AHL')\n",
    "plt.xlabel('Time')\n",
    "plt.ylabel('Concentration')\n",
    "plt.legend(loc = 'best')\n",
    "plt.grid()\n",
    "plt.yscale('log')\n",
    "plt.show()"
   ]
  },
  {
   "cell_type": "code",
   "execution_count": 82,
   "metadata": {
    "collapsed": false
   },
   "outputs": [],
   "source": [
    "noise = np.random.normal(0, 10, num_P.shape)\n",
    "exp_P = num_P + noise\n",
    "exp_t = t[::10]\n",
    "exp_P = exp_P[::10]\n",
    "# Create experimental data. Just take the regular simulation data and add some gaussian noise to it."
   ]
  },
  {
   "cell_type": "code",
   "execution_count": 83,
   "metadata": {
    "collapsed": true
   },
   "outputs": [],
   "source": [
    "def residuals(p):\n",
    "    p = tuple(p)\n",
    "    sim_P = odeint(simulation_set_of_equations, init_P, exp_t, args = p)\n",
    "    res = sim_P - exp_P\n",
    "    return res.flatten()"
   ]
  },
  {
   "cell_type": "code",
   "execution_count": 84,
   "metadata": {
    "collapsed": false
   },
   "outputs": [
    {
     "name": "stdout",
     "output_type": "stream",
     "text": [
      "(101, 50, 0.1)\n",
      "k_pCon_express is 100.955656066\n",
      "k_pLux_express is 50.0001414602\n",
      "k_loss is 0.100010205063\n"
     ]
    }
   ],
   "source": [
    "initial_guess = (100, 100, 100)\n",
    "low_bounds = [0, 0, 0]\n",
    "up_bounds = [1000, 1000, 1000]\n",
    "\n",
    "fitted_params = least_squares(residuals, initial_guess, bounds=(low_bounds, up_bounds)).x\n",
    "# small reminder: .x is the fitted paramaters attribute of the least_squares output\n",
    "\n",
    "# With least_squares function, unlike, say, curve_fit, it does not compute the covariance matrix for you\n",
    "# TODO calculate standard deviation of paramater estimation \n",
    "# (will this ever be used other than sanity checking?)\n",
    "\n",
    "print(params)\n",
    "report_params(fitted_params, param_names)"
   ]
  },
  {
   "cell_type": "code",
   "execution_count": 85,
   "metadata": {
    "collapsed": false
   },
   "outputs": [
    {
     "data": {
      "image/png": "[encoded data removed]",
      "text/plain": [
       "<matplotlib.figure.Figure at 0x891f668>"
      ]
     },
     "metadata": {},
     "output_type": "display_data"
    }
   ],
   "source": [
    "plt.plot(t, odeint(simulation_set_of_equations, init_P, t, args = tuple(params))[:,1], c='r', label='GFP - Given Param Simulation')\n",
    "plt.plot(exp_t, exp_P[:,1], c='b', label='GFP - Fake Experimental Data')\n",
    "plt.plot(t, odeint(simulation_set_of_equations, init_P, t, args = tuple(fitted_params))[:,1], c='g', label='GFP - Fitted Param Simlulation')\n",
    "plt.legend(loc = 'best')\n",
    "plt.xlabel('Time')\n",
    "plt.ylabel('Concentration')\n",
    "plt.grid()\n",
    "plt.yscale('log')\n",
    "plt.show()"
   ]
  },
  {
   "cell_type": "code",
   "execution_count": null,
   "metadata": {
    "collapsed": true
   },
   "outputs": [],
   "source": []
  }
 ],
 "metadata": {
  "kernelspec": {
   "display_name": "Python 3",
   "language": "python",
   "name": "python3"
  },
  "language_info": {
   "codemirror_mode": {
    "name": "ipython",
    "version": 3
   },
   "file_extension": ".py",
   "mimetype": "text/x-python",
   "name": "python",
   "nbconvert_exporter": "python",
   "pygments_lexer": "ipython3",
   "version": "3.5.4"
  }
 },
 "nbformat": 4,
 "nbformat_minor": 0
}
