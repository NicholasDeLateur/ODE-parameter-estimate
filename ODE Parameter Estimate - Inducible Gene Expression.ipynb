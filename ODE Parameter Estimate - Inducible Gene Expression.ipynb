{
 "cells": [
  {
   "cell_type": "code",
   "execution_count": 1,
   "metadata": {
    "collapsed": true
   },
   "outputs": [],
   "source": [
    "%matplotlib inline\n",
    "import numpy as np\n",
    "import matplotlib.pyplot as plt\n",
    "from scipy.integrate import odeint\n",
    "from scipy.optimize import least_squares"
   ]
  },
  {
   "cell_type": "code",
   "execution_count": 4,
   "metadata": {},
   "outputs": [
    {
     "data": {
      "image/png": "[encoded data removed]",
      "text/plain": [
       "<matplotlib.figure.Figure at 0x9124668>"
      ]
     },
     "metadata": {},
     "output_type": "display_data"
    }
   ],
   "source": [
    "def report_params(fit_params_values, fit_param_names):\n",
    "    for each in range(len(fit_param_names)):\n",
    "        print(fit_param_names[each], 'is', fit_params_values[each])\n",
    "\n",
    "# define your modules\n",
    "def pCon1():\n",
    "    pCon1_production_rate = 1\n",
    "    return pCon1_production_rate\n",
    "    \n",
    "def pLux1(LuxR, AHL):\n",
    "    # This is the module for a specific insubstatiation of a lux promoter\n",
    "    # the input is a LuxR amount and an AHL amount\n",
    "    # the output is a protein production amount\n",
    "    \n",
    "    # For every promoter there is some function that determines what the promoter's\n",
    "    #     maximal and basal expression are based on the amount of transcriptional factor\n",
    "    #     is floating around in the cell. These numbers are empircally determined, and\n",
    "    #     for demonstration purposes are fictionally and arbitrarily filled in here. \n",
    "    #     These functions take the form of hill functions.\n",
    "    n1 = 2 # Hill coefficients\n",
    "    n2 = 2 # Hill coefficients\n",
    "    n3 = 2 # Hill coefficients\n",
    "    basal_expression_rate = 1 + (5 * (LuxR**n1 / (LuxR**n1 + 1))) # low LuxR gives basal of 1, high LuxR gives basal of 6\n",
    "    maximal_expression_rate = 10 + (100 * (LuxR**n2 / (LuxR**n2 + 1))) # Low LuxR gives max of 10, high LuxR gives max of 110\n",
    "    Kd = 10\n",
    "    \n",
    "    pLux1_production_rate = basal_expression_rate + maximal_expression_rate*(AHL**n3 / (Kd + AHL**n3)) \n",
    "    \n",
    "    return pLux1_production_rate\n",
    "\n",
    "def simulation_set_of_equations(y, t, *args):\n",
    "    # Args are strictly for parameters we want to eventually estimate.\n",
    "    # Everything else must be hardcoded below. Sorry for the convience. \n",
    "    \n",
    "    # Unpack your parameters\n",
    "    k_pCon_express = args[0] # A summation of transcription and translation from a pCon promoter\n",
    "    k_pLux_express = args[1] # A summation of transcription and translation from a pLux promoter\n",
    "    k_loss = args[2] # A summation of dilution and degredation\n",
    "    \n",
    "    # Unpack your current amount of each species\n",
    "    LuxR, GFP, AHL = y\n",
    "    \n",
    "    # Determine the change in each species\n",
    "    dLuxR = pCon1()*k_pCon_express - k_loss*LuxR\n",
    "    dGFP = pLux1(LuxR, AHL)*k_pLux_express - k_loss*GFP\n",
    "    dAHL = 0 # for now we're assuming AHL was added exogenously and never degrades\n",
    "    \n",
    "    # Return the change in each species; make sure same order as your init values\n",
    "    # scipy.odeint will take these values and apply them to the current value of each species in the next time step for you\n",
    "    return [dLuxR, dGFP, dAHL]\n",
    " \n",
    "# Parameters\n",
    "k_pCon_express = 101\n",
    "k_pLux_express = 50\n",
    "k_loss = 0.1\n",
    "params = (k_pCon_express, k_pLux_express, k_loss)\n",
    "param_names = ['k_pCon_express', 'k_pLux_express', 'k_loss'] # somehow this is honestly necessary in Python?!\n",
    " \n",
    "# Initial Conditions\n",
    "# LuxR, GFP, AHL\n",
    "init_P = [1000, 0, 11]\n",
    "  \n",
    "# Timesteps\n",
    "n_steps = 10000\n",
    "t = np.linspace(0, 30, n_steps) \n",
    "  \n",
    "num_P = odeint(simulation_set_of_equations, init_P, t, args = (params))\n",
    "plt.plot(t, num_P[:,0], c='b', label = 'LuxR')\n",
    "plt.plot(t, num_P[:,1], c='g', label = 'GFP')\n",
    "plt.plot(t, num_P[:,2], c='r', label = 'AHL')\n",
    "plt.xlabel('Time')\n",
    "plt.ylabel('Concentration')\n",
    "plt.legend(loc = 'best')\n",
    "plt.grid()\n",
    "plt.yscale('log')\n",
    "\n",
    "plt.show()"
   ]
  },
  {
   "cell_type": "code",
   "execution_count": 9,
   "metadata": {
    "collapsed": true
   },
   "outputs": [],
   "source": [
    "noise = np.random.normal(0, 10, num_P.shape)\n",
    "exp_P = num_P + noise\n",
    "exp_t = t[::1000]\n",
    "exp_P = exp_P[::1000]\n",
    "# Create experimental data. Just take the regular simulation data and add some gaussian noise to it."
   ]
  },
  {
   "cell_type": "code",
   "execution_count": 10,
   "metadata": {
    "collapsed": true
   },
   "outputs": [],
   "source": [
    "def residuals(p):\n",
    "    p = tuple(p)\n",
    "    sim_P = odeint(simulation_set_of_equations, init_P, exp_t, args = p)\n",
    "    res = sim_P - exp_P\n",
    "    return res.flatten()"
   ]
  },
  {
   "cell_type": "code",
   "execution_count": 11,
   "metadata": {},
   "outputs": [
    {
     "name": "stdout",
     "output_type": "stream",
     "text": [
      "(101, 50, 0.1)\n",
      "k_pCon_express is 100.756327942\n",
      "k_pLux_express is 49.9904835782\n",
      "k_loss is 0.0999833396803\n"
     ]
    }
   ],
   "source": [
    "initial_guess = (100, 100, 100)\n",
    "low_bounds = [0, 0, 0]\n",
    "up_bounds = [1000, 1000, 1000]\n",
    "\n",
    "fitted_params = least_squares(residuals, initial_guess, bounds=(low_bounds, up_bounds)).x\n",
    "# small reminder: .x is the fitted paramaters attribute of the least_squares output\n",
    "\n",
    "# With least_squares function, unlike, say, curve_fit, it does not compute the covariance matrix for you\n",
    "# TODO calculate standard deviation of paramater estimation \n",
    "# (will this ever be used other than sanity checking?)\n",
    "\n",
    "print(params)\n",
    "report_params(fitted_params, param_names)"
   ]
  },
  {
   "cell_type": "code",
   "execution_count": 17,
   "metadata": {},
   "outputs": [
    {
     "data": {
      "image/png": "[encoded data removed]",
      "text/plain": [
       "<matplotlib.figure.Figure at 0xc260e10>"
      ]
     },
     "metadata": {},
     "output_type": "display_data"
    }
   ],
   "source": [
    "plt.plot(t, odeint(simulation_set_of_equations, init_P, t, args = tuple(params))[:,1], c='r', label='GFP - Given Param Simulation')\n",
    "plt.scatter(exp_t, exp_P[:,1], c='b', label='GFP - Fake Experimental Data')\n",
    "plt.plot(t, odeint(simulation_set_of_equations, init_P, t, args = tuple(fitted_params))[:,1], c='g', label='GFP - Fitted Param Simlulation')\n",
    "plt.legend(loc = 'best')\n",
    "plt.xlabel('Time')\n",
    "plt.ylabel('Concentration')\n",
    "plt.grid()\n",
    "plt.yscale('log')\n",
    "plt.show()"
   ]
  },
  {
   "cell_type": "code",
   "execution_count": null,
   "metadata": {
    "collapsed": true
   },
   "outputs": [],
   "source": []
  }
 ],
 "metadata": {
  "kernelspec": {
   "display_name": "Python 3",
   "language": "python",
   "name": "python3"
  },
  "language_info": {
   "codemirror_mode": {
    "name": "ipython",
    "version": 3
   },
   "file_extension": ".py",
   "mimetype": "text/x-python",
   "name": "python",
   "nbconvert_exporter": "python",
   "pygments_lexer": "ipython3",
   "version": "3.6.3"
  }
 },
 "nbformat": 4,
 "nbformat_minor": 1
}
