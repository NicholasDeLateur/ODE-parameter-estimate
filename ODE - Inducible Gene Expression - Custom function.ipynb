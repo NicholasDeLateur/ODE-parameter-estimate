{
 "cells": [
  {
   "cell_type": "code",
   "execution_count": 1,
   "metadata": {
    "collapsed": true
   },
   "outputs": [],
   "source": [
    "%matplotlib inline\n",
    "import numpy as np\n",
    "import matplotlib.pyplot as plt\n",
    "from scipy.integrate import odeint\n",
    "from scipy.optimize import least_squares"
   ]
  },
  {
   "cell_type": "code",
   "execution_count": 31,
   "metadata": {},
   "outputs": [],
   "source": [
    "def report_params(fit_params_values, fit_param_names):\n",
    "    for each in range(len(fit_param_names)):\n",
    "        print(fit_param_names[each], 'is', fit_params_values[each])\n",
    "\n",
    "# define your modules\n",
    "def pCon1():\n",
    "    # This is the module for a specific insubstatiation of a constituitive promoter\n",
    "    # the input is nothing\n",
    "    # the output is a protein production amount per time unit\n",
    "    pCon1_production_rate = 100 \n",
    "    \n",
    "    return pCon1_production_rate # MEFL minute**-1\n",
    "    \n",
    "def pLux1(LuxR, AHL):\n",
    "    # This is the module for a specific insubstatiation of a lux promoter\n",
    "    # the input is a LuxR amount and an AHL amount\n",
    "    # the output is a protein production amount per time unit\n",
    "    \n",
    "    # For every promoter there is some function that determines what the promoter's\n",
    "    #     maximal and basal expression are based on the amount of transcriptional factor\n",
    "    #     is floating around in the cell. These numbers are empircally determined, and\n",
    "    #     for demonstration purposes are fictionally and arbitrarily filled in here. \n",
    "    #     These functions take the form of hill functions.\n",
    "    \n",
    "    basal_n = 2\n",
    "    basal_basal = 2\n",
    "    basal_max = 4\n",
    "    basal_kd = 2\n",
    "    basal_expression_rate = basal_basal + (basal_max * (LuxR**basal_n / (LuxR**basal_n + basal_kd))) # MEFL minute**-1\n",
    "    \n",
    "    max_n = 2\n",
    "    max_max = 600\n",
    "    max_kd = 10\n",
    "    maximal_expression_rate = max_max * (LuxR**max_n / (LuxR**max_n + max_kd)) # MEFL minute**-1\n",
    "    \n",
    "    \n",
    "    pLux1_n = 2\n",
    "    pLux1_kd = 10\n",
    "     \n",
    "    pLux1_production_rate = basal_expression_rate + (maximal_expression_rate * (AHL**pLux1_n / (pLux1_kd + AHL**pLux1_n))) \n",
    "    \n",
    "    return pLux1_production_rate # MEFL minute**-1\n",
    "\n",
    "def simulation_set_of_equations1(y, dt):\n",
    "    # Everything else must be hardcoded below. Sorry for the convience. \n",
    "    k_loss = 0.1 # A summation of dilution and degredation\n",
    "    \n",
    "    # Unpack your current amount of each species\n",
    "    LuxR, GFP, AHL = y\n",
    "    \n",
    "    # Determine the change in each species\n",
    "    dLuxR = dt * (pCon1() - k_loss*LuxR)\n",
    "    dGFP = dt * (pLux1(LuxR, AHL) - k_loss*GFP)\n",
    "    dAHL = dt * 0 # for now we're assuming AHL was added exogenously and never degrades\n",
    "    \n",
    "    # Return the change in each species; make sure same order as your init values\n",
    "    # scipy.odeint will take these values and apply them to the current value of each species in the next time step for you\n",
    "    return [dLuxR, dGFP, dAHL]\n",
    "\n",
    "def simulation_set_of_equations2(y, t):\n",
    "    # Everything else must be hardcoded below. Sorry for the convience. \n",
    "    k_loss = 0.1 # A summation of dilution and degredation\n",
    "    \n",
    "    # Unpack your current amount of each species\n",
    "    LuxR, GFP, AHL = y\n",
    "    \n",
    "    # Determine the change in each species\n",
    "    dLuxR = pCon1() - k_loss*LuxR\n",
    "    dGFP = pLux1(LuxR, AHL) - k_loss*GFP\n",
    "    dAHL = 0 # for now we're assuming AHL was added exogenously and never degrades\n",
    "    \n",
    "    # Return the change in each species; make sure same order as your init values\n",
    "    # scipy.odeint will take these values and apply them to the current value of each species in the next time step for you\n",
    "    return [dLuxR, dGFP, dAHL]\n",
    "\n",
    "# Initial Conditions\n",
    "# LuxR, GFP, AHL\n",
    "Species = [10, 0, 10000]\n",
    "\n",
    "# Timesteps\n",
    "ODE_minutes = 40\n",
    "timesteps = 10000\n",
    "dt = ODE_minutes / timesteps\n",
    "\n",
    "init_P = [10, 0, 10000]\n",
    "t_ODE = np.linspace(0, ODE_minutes, timesteps) \n",
    "numP_ODE = odeint(simulation_set_of_equations2, init_P, t_ODE)\n",
    "\n",
    "numP_custom = []\n",
    "for i in range(0, len(Species)):\n",
    "    numP_custom.append([])\n",
    "t = 0\n",
    "timepoints = []\n",
    "while t<ODE_minutes:\n",
    "    # Log the amount of each species\n",
    "    for i in range(0, len(Species)):\n",
    "        numP_custom[i].append(Species[i])\n",
    "        \n",
    "    # Calculate the change in each species and apply it to the current\n",
    "    change_in_species = simulation_set_of_equations1(Species, dt)\n",
    "    Species = np.add(Species, change_in_species)\n",
    "\n",
    "    # increment time\n",
    "    timepoints.append(t)\n",
    "    t += dt"
   ]
  },
  {
   "cell_type": "code",
   "execution_count": 32,
   "metadata": {},
   "outputs": [
    {
     "data": {
      "image/png": "[encoded data removed]",
      "text/plain": [
       "<matplotlib.figure.Figure at 0x15f6d5476a0>"
      ]
     },
     "metadata": {},
     "output_type": "display_data"
    }
   ],
   "source": [
    "plt.plot(t_ODE, numP_ODE[:,0], c='plum', zorder=1, label = 'LuxR-1')\n",
    "plt.plot(t_ODE, numP_ODE[:,1], c='yellow', label = 'GFP-1')\n",
    "plt.plot(t_ODE, numP_ODE[:,2], c='red', label = 'AHL-1')\n",
    "plt.scatter(timepoints, numP_custom[0], c='b', label = 'LuxR-1')\n",
    "plt.scatter(timepoints, numP_custom[1], c='g', label = 'GFP-1')\n",
    "plt.scatter(timepoints, numP_custom[2], c='black', label = 'AHL-1')\n",
    "plt.xlabel('Time')\n",
    "plt.ylabel('Concentration')\n",
    "plt.legend(loc = 'best')\n",
    "plt.grid()\n",
    "plt.yscale('log')\n",
    "plt.show()"
   ]
  },
  {
   "cell_type": "code",
   "execution_count": null,
   "metadata": {
    "collapsed": true
   },
   "outputs": [],
   "source": []
  }
 ],
 "metadata": {
  "kernelspec": {
   "display_name": "Python 3",
   "language": "python",
   "name": "python3"
  },
  "language_info": {
   "codemirror_mode": {
    "name": "ipython",
    "version": 3
   },
   "file_extension": ".py",
   "mimetype": "text/x-python",
   "name": "python",
   "nbconvert_exporter": "python",
   "pygments_lexer": "ipython3",
   "version": "3.6.3"
  }
 },
 "nbformat": 4,
 "nbformat_minor": 1
}
