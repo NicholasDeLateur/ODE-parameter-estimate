{
 "cells": [
  {
   "cell_type": "code",
   "execution_count": 115,
   "metadata": {
    "collapsed": false
   },
   "outputs": [
    {
     "data": {
      "image/png": "[encoded data removed]",
      "text/plain": [
       "<matplotlib.figure.Figure at 0x84c37f0>"
      ]
     },
     "metadata": {},
     "output_type": "display_data"
    }
   ],
   "source": [
    "%matplotlib inline\n",
    "import numpy as np\n",
    "import matplotlib.pyplot as plt\n",
    "from scipy.integrate import odeint\n",
    "  \n",
    "def BoatFishSystem(state, t, *args):\n",
    "    '''http://www.danham.me/r/2015/10/29/differential-eq.html'''\n",
    "    A = args[0]\n",
    "    B = args[1]\n",
    "    C = args[2]\n",
    "    fish, boat = state\n",
    "    d_fish = fish * (A - boat - fish)\n",
    "    d_boat = -boat * (B - C * fish)\n",
    "    return [d_fish, d_boat]\n",
    "\n",
    "A = 2.0\n",
    "B = 1.0\n",
    "C = 1.5\n",
    "params = (A, B, C)\n",
    "n_steps = 100000\n",
    "t = np.linspace(0, 20, n_steps)\n",
    "init_state = [1, 1]\n",
    "species = odeint(BoatFishSystem, init_state, t, args = (params))\n",
    "\n",
    "plt.plot(t, species)\n",
    "plt.show()"
   ]
  },
  {
   "cell_type": "code",
   "execution_count": 116,
   "metadata": {
    "collapsed": false
   },
   "outputs": [],
   "source": [
    "noise = np.random.normal(0, 1, species.shape)\n",
    "species = species + noise"
   ]
  },
  {
   "cell_type": "code",
   "execution_count": 117,
   "metadata": {
    "collapsed": true
   },
   "outputs": [],
   "source": [
    "def residuals(p):\n",
    "    p = tuple(p)\n",
    "    sim_P = odeint(BoatFishSystem, init_state, t, args = p)\n",
    "    res = sim_P - species\n",
    "    return res.flatten()"
   ]
  },
  {
   "cell_type": "code",
   "execution_count": 118,
   "metadata": {
    "collapsed": false
   },
   "outputs": [],
   "source": [
    "from scipy.optimize import leastsq\n",
    "initial_guess = [1, 1, 1]\n",
    "fitted_params = leastsq(residuals, initial_guess)[0]"
   ]
  },
  {
   "cell_type": "code",
   "execution_count": 119,
   "metadata": {
    "collapsed": false
   },
   "outputs": [
    {
     "name": "stdout",
     "output_type": "stream",
     "text": [
      "(2.0, 1.0, 1.5)\n"
     ]
    }
   ],
   "source": [
    "print(params)"
   ]
  },
  {
   "cell_type": "code",
   "execution_count": 120,
   "metadata": {
    "collapsed": false
   },
   "outputs": [
    {
     "name": "stdout",
     "output_type": "stream",
     "text": [
      "[ 2.00778306  1.00872718  1.50103753]\n"
     ]
    }
   ],
   "source": [
    "print(fitted_params)"
   ]
  },
  {
   "cell_type": "code",
   "execution_count": null,
   "metadata": {
    "collapsed": true
   },
   "outputs": [],
   "source": []
  },
  {
   "cell_type": "code",
   "execution_count": null,
   "metadata": {
    "collapsed": true
   },
   "outputs": [],
   "source": []
  }
 ],
 "metadata": {
  "kernelspec": {
   "display_name": "Python 3",
   "language": "python",
   "name": "python3"
  },
  "language_info": {
   "codemirror_mode": {
    "name": "ipython",
    "version": 3
   },
   "file_extension": ".py",
   "mimetype": "text/x-python",
   "name": "python",
   "nbconvert_exporter": "python",
   "pygments_lexer": "ipython3",
   "version": "3.5.4"
  }
 },
 "nbformat": 4,
 "nbformat_minor": 0
}
